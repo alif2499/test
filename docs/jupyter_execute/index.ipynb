{
 "cells": [
  {
   "cell_type": "markdown",
   "id": "d596e397",
   "metadata": {},
   "source": [
    "# Ungulate monitoring methods workshop\n",
    "<br>\n",
    "<br>\n",
    "\n",
    "::::{grid} \n",
    ":gutter: 3\n",
    "\n",
    ":::{grid-item}\n",
    "```{figure} ./logos/govt_logo_663142569349d6_04655200.png \n",
    ":width: 180px \n",
    ":align: center\n",
    "```\n",
    ":::\n",
    "\n",
    ":::{grid-item}\n",
    "```{figure} ./logos/ABMI-Horizontal-FullColour.jpg\n",
    ":width: 200px \n",
    ":align: center\n",
    "```\n",
    ":::\n",
    "\n",
    ":::{grid-item}\n",
    "```{figure} ./logos/RCSC_logo2.png\n",
    ":width: 100px \n",
    ":align: center\n",
    ":::\n",
    "::::\n",
    "***\n",
    "\n",
    "<font size=\"4\">**June 4-6, 2024**</font>\n",
    "\n",
    ":::{warning}\n",
    "Registration is closed\n",
    ":::\n",
    "\n",
    "***\n",
    "\n",
    "## Workshop Objective\n",
    "\n",
    "To collectively explore **current and prospective** monitoring methods for ungulates, considering **opportunities, challenges, and barriers to implementation**, and **identify next steps towards application** of best methods to improve ungulate population management.\n",
    "\n",
    "***\n",
    "\n",
    "## Agenda  \n",
    "\n",
    "<object data=\"https://ab-rcsc.github.io/GOA_Ungulate-monitoring-methods-workshop/_downloads\n",
    "/bc3743287cfb536a5c3919dcdcaab598/Monitoring-Methods-Workshop-Agenda-May-9-2024-Post.pdf\" type=\"application/pdf\" width=\"840px\" height=\"660px\">\n",
    "    <embed src=\"https://ab-rcsc.github.io/GOA_Ungulate-monitoring-methods-workshop/_downloads\n",
    "/bc3743287cfb536a5c3919dcdcaab598/Monitoring-Methods-Workshop-Agenda-May-9-2024-Post.pdf\">\n",
    "        <p>This browser does not support PDFs. Please download the PDF to view it: <a href=\"https://ab-rcsc.github.io/GOA_Ungulate-monitoring-methods-workshop/_downloads\n",
    "/bc3743287cfb536a5c3919dcdcaab598/Monitoring-Methods-Workshop-Agenda-May-9-2024-Post.pdf\">Download PDF</a>.</p>\n",
    "    </embed>\n",
    "</object>   \n",
    "\n",
    "*Download the PDF* [Agenda - GOA Ungulate monitoring methods workshop](./1_pages/files/Monitoring-Methods-Workshop-Agenda-May-9-2024-Post.pdf)                                                       \n",
    "\n",
    "***\n",
    "\n",
    "## Contact Information\n",
    "\n",
    "If you have questions or would like further information, please contact Dr. Anne Hubbs, Alberta Environment & Protected Areas, [Anne.Hubbs@gov.ab.ca](mailto:Anne.Hubbs@gov.ab.ca).\n",
    "\n",
    "***"
   ]
  }
 ],
 "metadata": {
  "editor_options": {
   "markdown": {
    "wrap": "none"
   }
  },
  "jupytext": {
   "formats": "md:myst",
   "text_representation": {
    "extension": ".md",
    "format_name": "myst",
    "format_version": "1.16",
    "jupytext_version": "1.16.1"
   }
  },
  "kernelspec": {
   "display_name": "Python 3",
   "language": "python",
   "name": "python3"
  },
  "language_info": {
   "codemirror_mode": {
    "name": "ipython",
    "version": 3
   },
   "file_extension": ".py",
   "mimetype": "text/x-python",
   "name": "python",
   "nbconvert_exporter": "python",
   "pygments_lexer": "ipython3",
   "version": "3.12.3"
  },
  "source_map": [
   16
  ]
 },
 "nbformat": 4,
 "nbformat_minor": 5
}