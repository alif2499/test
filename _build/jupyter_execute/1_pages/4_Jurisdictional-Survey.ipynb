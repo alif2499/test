{
 "cells": [
  {
   "cell_type": "markdown",
   "id": "f9344dd7",
   "metadata": {},
   "source": [
    "# Ungulate Monitoring Methods Jurisdictional Survey\n",
    "<https://form.jotform.com/241216843356254>\n",
    "  \n",
    "Alberta Environment and Protected Areas (EPA) is interested in gathering insights from other jurisdictions regarding their current or proposed methods for monitoring ungulates. This information will aid us in evaluating options to address our management objectives and in determining opportunities for collaboration to address shared knowledge gaps.\n",
    "This survey is intended to be completed by a representative from each jurisdiction who is familiar with the monitoring methods used across the state or province (e.g., ungulate, or big game specialist).\n",
    "\n",
    "The survey takes about 10 minutes to complete.\n",
    "\n",
    "A summary of the results will be provided to participating jurisdictions.\n",
    "\n",
    "Thank you for your help."
   ]
  }
 ],
 "metadata": {
  "editor_options": {
   "markdown": {
    "wrap": "none"
   }
  },
  "jupytext": {
   "formats": "md:myst",
   "text_representation": {
    "extension": ".md",
    "format_name": "myst",
    "format_version": "1.16",
    "jupytext_version": "1.16.1"
   }
  },
  "kernelspec": {
   "display_name": "Python 3",
   "language": "python",
   "name": "python3"
  },
  "language_info": {
   "codemirror_mode": {
    "name": "ipython",
    "version": 3
   },
   "file_extension": ".py",
   "mimetype": "text/x-python",
   "name": "python",
   "nbconvert_exporter": "python",
   "pygments_lexer": "ipython3",
   "version": "3.11.7"
  },
  "source_map": [
   16
  ]
 },
 "nbformat": 4,
 "nbformat_minor": 5
}