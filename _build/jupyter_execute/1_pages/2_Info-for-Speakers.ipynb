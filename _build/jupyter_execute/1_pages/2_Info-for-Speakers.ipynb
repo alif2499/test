{
 "cells": [
  {
   "cell_type": "markdown",
   "id": "cff5ead8",
   "metadata": {},
   "source": [
    "# Information for Invited Speakers\n",
    "\n",
    "<object data=\"https://ab-rcsc.github.io/GOA_Ungulate-monitoring-methods-workshop/_downloads\n",
    "/85cebce89b0b7fe4dcf5ed1ddaeac3c3/Information-Package-for-Invited-Speakers-May-7-2024.pdf\" type=\"application/pdf\" width=\"840px\" height=\"660px\">\n",
    "    <embed src=\"https://ab-rcsc.github.io/GOA_Ungulate-monitoring-methods-workshop/_downloads\n",
    "/85cebce89b0b7fe4dcf5ed1ddaeac3c3/Information-Package-for-Invited-Speakers-May-7-2024.pdf\">\n",
    "        <p>This browser does not support PDFs. Please download the PDF to view it: <a href=\"https://ab-rcsc.github.io/GOA_Ungulate-monitoring-methods-workshop/_downloads\n",
    "/85cebce89b0b7fe4dcf5ed1ddaeac3c3/Information-Package-for-Invited-Speakers-May-7-2024.pdf\">Download PDF</a>.</p>\n",
    "    </embed>\n",
    "</object>   \n",
    "\n",
    "*Download the PDF* [Information for Invited Speakers - GOA Ungulate monitoring methods workshop](./files/Information-Package-for-Invited-Speakers-May-7-2024.pdf)                                                       \n",
    "\n",
    "***"
   ]
  }
 ],
 "metadata": {
  "editor_options": {
   "markdown": {
    "wrap": "none"
   }
  },
  "jupytext": {
   "formats": "md:myst",
   "text_representation": {
    "extension": ".md",
    "format_name": "myst",
    "format_version": "1.16",
    "jupytext_version": "1.16.1"
   }
  },
  "kernelspec": {
   "display_name": "Python 3",
   "language": "python",
   "name": "python3"
  },
  "language_info": {
   "codemirror_mode": {
    "name": "ipython",
    "version": 3
   },
   "file_extension": ".py",
   "mimetype": "text/x-python",
   "name": "python",
   "nbconvert_exporter": "python",
   "pygments_lexer": "ipython3",
   "version": "3.12.2"
  },
  "source_map": [
   16
  ]
 },
 "nbformat": 4,
 "nbformat_minor": 5
}